{
 "cells": [
  {
   "cell_type": "markdown",
   "metadata": {},
   "source": [
    "# Sequential"
   ]
  },
  {
   "cell_type": "markdown",
   "metadata": {},
   "source": [
    "###  sequential 有三种方式，常用的有两种"
   ]
  },
  {
   "cell_type": "code",
   "execution_count": 1,
   "metadata": {},
   "outputs": [],
   "source": [
    "from torch import nn\n",
    "from torchsummary import summary"
   ]
  },
  {
   "cell_type": "code",
   "execution_count": 2,
   "metadata": {},
   "outputs": [
    {
     "name": "stdout",
     "output_type": "stream",
     "text": [
      "net1: Sequential(\n",
      "  (conv): Conv2d(3, 3, kernel_size=(3, 3), stride=(1, 1))\n",
      "  (batchnorm): BatchNorm2d(3, eps=1e-05, momentum=0.1, affine=True, track_running_stats=True)\n",
      "  (activation_layer): ReLU()\n",
      ")\n"
     ]
    }
   ],
   "source": [
    "net1 = nn.Sequential()\n",
    "net1.add_module('conv', nn.Conv2d(3, 3, 3))\n",
    "net1.add_module('batchnorm', nn.BatchNorm2d(3))\n",
    "net1.add_module('activation_layer', nn.ReLU())\n",
    "\n",
    "print('net1:', net1)"
   ]
  },
  {
   "cell_type": "code",
   "execution_count": 3,
   "metadata": {},
   "outputs": [
    {
     "name": "stdout",
     "output_type": "stream",
     "text": [
      "net2: Sequential(\n",
      "  (0): Conv2d(3, 3, kernel_size=(3, 3), stride=(1, 1))\n",
      "  (1): BatchNorm2d(3, eps=1e-05, momentum=0.1, affine=True, track_running_stats=True)\n",
      "  (2): ReLU()\n",
      ")\n"
     ]
    }
   ],
   "source": [
    "net2 = nn.Sequential(\n",
    "        nn.Conv2d(3, 3, 3),\n",
    "        nn.BatchNorm2d(3),\n",
    "        nn.ReLU()\n",
    "        )\n",
    "\n",
    "print('net2:', net2)"
   ]
  },
  {
   "cell_type": "markdown",
   "metadata": {},
   "source": [
    "可根据名字或序号取出子module"
   ]
  },
  {
   "cell_type": "code",
   "execution_count": 4,
   "metadata": {},
   "outputs": [
    {
     "data": {
      "text/plain": [
       "(Conv2d(3, 3, kernel_size=(3, 3), stride=(1, 1)),\n",
       " Conv2d(3, 3, kernel_size=(3, 3), stride=(1, 1)))"
      ]
     },
     "execution_count": 4,
     "metadata": {},
     "output_type": "execute_result"
    }
   ],
   "source": [
    "net1.conv, net2[0]"
   ]
  },
  {
   "cell_type": "markdown",
   "metadata": {},
   "source": [
    "# ModuleList"
   ]
  },
  {
   "cell_type": "markdown",
   "metadata": {},
   "source": [
    "ModuleList是Module的子类，当在Module中使用它的时候，就能自动识别为子module。\n",
    "\n",
    "当添加 nn.ModuleList 作为 nn.Module 对象的一个成员时（即当我们添加模块到我们的网络时），所有 nn.ModuleList 内部的 nn.Module 的 parameter 也被添加作为 我们的网络的 parameter。"
   ]
  },
  {
   "cell_type": "code",
   "execution_count": 5,
   "metadata": {},
   "outputs": [],
   "source": [
    "class MyModule_1(nn.Module):\n",
    "    def __init__(self):\n",
    "        super(MyModule_1, self).__init__()\n",
    "        # self.linears = nn.ModuleList([nn.Linear(10, 10) for i in range(5)])\n",
    "        self.linears = nn.ModuleList([nn.Conv2d(3, 3, 3), nn.BatchNorm2d(3), nn.ReLU()])\n",
    "        \n",
    "    def forward(self, x):\n",
    "        # ModuleList can be indexed using ints\n",
    "        for i in range(len(self.linears)):\n",
    "            x = self.linears[i](x)\n",
    "        return x\n",
    "\n",
    "class MyModule_2(nn.Module):\n",
    "    def __init__(self):\n",
    "        super(MyModule_2, self).__init__()\n",
    "        self.linears = nn.ModuleList([nn.Linear(10, 10) for i in range(5)])\n",
    " \n",
    "    def forward(self, x):\n",
    "        # ModuleList can act as an iterable\n",
    "        for i, l in enumerate(self.linears):\n",
    "            x = l(x)\n",
    "        return x"
   ]
  },
  {
   "cell_type": "code",
   "execution_count": 6,
   "metadata": {},
   "outputs": [
    {
     "name": "stdout",
     "output_type": "stream",
     "text": [
      "MyModule_1(\n",
      "  (linears): ModuleList(\n",
      "    (0): Conv2d(3, 3, kernel_size=(3, 3), stride=(1, 1))\n",
      "    (1): BatchNorm2d(3, eps=1e-05, momentum=0.1, affine=True, track_running_stats=True)\n",
      "    (2): ReLU()\n",
      "  )\n",
      ")\n",
      "MyModule_2(\n",
      "  (linears): ModuleList(\n",
      "    (0): Linear(in_features=10, out_features=10, bias=True)\n",
      "    (1): Linear(in_features=10, out_features=10, bias=True)\n",
      "    (2): Linear(in_features=10, out_features=10, bias=True)\n",
      "    (3): Linear(in_features=10, out_features=10, bias=True)\n",
      "    (4): Linear(in_features=10, out_features=10, bias=True)\n",
      "  )\n",
      ")\n",
      "----------------------------------------------------------------\n",
      "        Layer (type)               Output Shape         Param #\n",
      "================================================================\n",
      "            Conv2d-1              [-1, 3, 8, 8]              84\n",
      "       BatchNorm2d-2              [-1, 3, 8, 8]               6\n",
      "              ReLU-3              [-1, 3, 8, 8]               0\n",
      "================================================================\n",
      "Total params: 90\n",
      "Trainable params: 90\n",
      "Non-trainable params: 0\n",
      "----------------------------------------------------------------\n",
      "Input size (MB): 0.00\n",
      "Forward/backward pass size (MB): 0.00\n",
      "Params size (MB): 0.00\n",
      "Estimated Total Size (MB): 0.01\n",
      "----------------------------------------------------------------\n",
      "----------------------------------------------------------------\n",
      "        Layer (type)               Output Shape         Param #\n",
      "================================================================\n",
      "            Linear-1                   [-1, 10]             110\n",
      "            Linear-2                   [-1, 10]             110\n",
      "            Linear-3                   [-1, 10]             110\n",
      "            Linear-4                   [-1, 10]             110\n",
      "            Linear-5                   [-1, 10]             110\n",
      "================================================================\n",
      "Total params: 550\n",
      "Trainable params: 550\n",
      "Non-trainable params: 0\n",
      "----------------------------------------------------------------\n",
      "Input size (MB): 0.00\n",
      "Forward/backward pass size (MB): 0.00\n",
      "Params size (MB): 0.00\n",
      "Estimated Total Size (MB): 0.00\n",
      "----------------------------------------------------------------\n"
     ]
    }
   ],
   "source": [
    "net3 = MyModule_1()\n",
    "net4 = MyModule_2()\n",
    "print(net3)\n",
    "print(net4)\n",
    "summary(net3, (3,10,10))\n",
    "summary(net4, (10,))"
   ]
  },
  {
   "cell_type": "markdown",
   "metadata": {},
   "source": [
    "# Sequential 和 ModuleList结合"
   ]
  },
  {
   "cell_type": "code",
   "execution_count": 7,
   "metadata": {},
   "outputs": [
    {
     "name": "stdout",
     "output_type": "stream",
     "text": [
      "test_net(\n",
      "  (linear_1): Linear(in_features=10, out_features=5, bias=True)\n",
      "  (middle): ModuleList(\n",
      "    (0): Linear(in_features=5, out_features=5, bias=True)\n",
      "    (1): Linear(in_features=5, out_features=5, bias=True)\n",
      "    (2): Linear(in_features=5, out_features=5, bias=True)\n",
      "    (3): Linear(in_features=5, out_features=5, bias=True)\n",
      "    (4): Linear(in_features=5, out_features=5, bias=True)\n",
      "  )\n",
      "  (output): Linear(in_features=5, out_features=2, bias=True)\n",
      ")\n",
      "----------------------------------------------------------------\n",
      "        Layer (type)               Output Shape         Param #\n",
      "================================================================\n",
      "            Linear-1                    [-1, 5]              55\n",
      "            Linear-2                    [-1, 5]              30\n",
      "            Linear-3                    [-1, 5]              30\n",
      "            Linear-4                    [-1, 5]              30\n",
      "            Linear-5                    [-1, 5]              30\n",
      "            Linear-6                    [-1, 5]              30\n",
      "            Linear-7                    [-1, 2]              12\n",
      "================================================================\n",
      "Total params: 217\n",
      "Trainable params: 217\n",
      "Non-trainable params: 0\n",
      "----------------------------------------------------------------\n",
      "Input size (MB): 0.00\n",
      "Forward/backward pass size (MB): 0.00\n",
      "Params size (MB): 0.00\n",
      "Estimated Total Size (MB): 0.00\n",
      "----------------------------------------------------------------\n"
     ]
    }
   ],
   "source": [
    "class test_net(nn.Module):\n",
    "    def __init__(self, num_layers, input_size):\n",
    "        super(test_net, self).__init__()\n",
    "        self.num_layers= num_layers\n",
    "        self.linear_1 = nn.Linear(input_size, 5)\n",
    "        self.middle = nn.ModuleList([nn.Linear(5,5) for x in range(num_layers)])\n",
    "        self.output = nn.Linear(5,2)\n",
    "    \n",
    "    def forward(self, x):\n",
    "        fwd = nn.Sequential(self.linear_1, *self.middle, self.output)\n",
    "        return fwd(x)\n",
    "\n",
    "net5 = test_net(5, 10)\n",
    "print(net5)\n",
    "summary(net5,(10,))"
   ]
  },
  {
   "cell_type": "markdown",
   "metadata": {},
   "source": [
    "# ModuleList 的extend 和 append方法"
   ]
  },
  {
   "cell_type": "markdown",
   "metadata": {},
   "source": [
    "nn.moduleList定义对象后，有extend和append方法，用法和python中一样，extend是添加另一个modulelist  append是添加另一个module"
   ]
  },
  {
   "cell_type": "code",
   "execution_count": 13,
   "metadata": {},
   "outputs": [],
   "source": [
    "class LinearNet(nn.Module):\n",
    "    def __init__(self, input_size, num_layers, layers_size, output_size):\n",
    "        super(LinearNet, self).__init__()\n",
    "        self.linears = nn.ModuleList([nn.Linear(input_size, layers_size)])\n",
    "        self.linears.extend([nn.Linear(layers_size, layers_size) for i in range(1, self.num_layers-1)])\n",
    "        self.linears.append(nn.Linear(layers_size, output_size))"
   ]
  },
  {
   "cell_type": "markdown",
   "metadata": {},
   "source": [
    "# ModuleList 与普通List"
   ]
  },
  {
   "cell_type": "markdown",
   "metadata": {},
   "source": [
    "普通list中的子module并不能被主module所识别，而ModuleList中的子module能够被主module所识别。这意味着如果用list保存子module，将无法调整其参数，因其未加入到主module的参数中。"
   ]
  },
  {
   "cell_type": "code",
   "execution_count": 20,
   "metadata": {},
   "outputs": [
    {
     "name": "stdout",
     "output_type": "stream",
     "text": [
      "MyModule(\n",
      "  (module_list): ModuleList(\n",
      "    (0): Conv2d(3, 3, kernel_size=(3, 3), stride=(1, 1))\n",
      "    (1): ReLU()\n",
      "  )\n",
      ")\n"
     ]
    }
   ],
   "source": [
    "class MyModule(nn.Module):\n",
    "    def __init__(self):\n",
    "        super(MyModule, self).__init__()\n",
    "        self.list = [nn.Linear(3, 4), nn.ReLU()]\n",
    "        self.module_list = nn.ModuleList([nn.Conv2d(3, 3, 3), nn.ReLU()])\n",
    "    def forward(self):\n",
    "        pass\n",
    "        \n",
    "model = MyModule()\n",
    "print(model)"
   ]
  },
  {
   "cell_type": "code",
   "execution_count": null,
   "metadata": {},
   "outputs": [],
   "source": []
  }
 ],
 "metadata": {
  "kernelspec": {
   "display_name": "Python 3",
   "language": "python",
   "name": "python3"
  },
  "language_info": {
   "codemirror_mode": {
    "name": "ipython",
    "version": 3
   },
   "file_extension": ".py",
   "mimetype": "text/x-python",
   "name": "python",
   "nbconvert_exporter": "python",
   "pygments_lexer": "ipython3",
   "version": "3.7.3"
  }
 },
 "nbformat": 4,
 "nbformat_minor": 2
}
