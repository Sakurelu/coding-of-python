{
 "cells": [
  {
   "cell_type": "markdown",
   "metadata": {},
   "source": [
    "# collections.Counter"
   ]
  },
  {
   "cell_type": "markdown",
   "metadata": {},
   "source": [
    "## 1.基本功能描述：collections中的Counter模块是dict类的子类，其主要功能是快速便捷地实现计数"
   ]
  },
  {
   "cell_type": "code",
   "execution_count": 1,
   "metadata": {},
   "outputs": [
    {
     "name": "stdout",
     "output_type": "stream",
     "text": [
      "initial of cnt:\t\t Counter()\n",
      "cnt:\t\t\t Counter({'blue': 3, 'red': 2, 'green': 1})\n"
     ]
    }
   ],
   "source": [
    "from collections import Counter\n",
    "cnt = Counter()\n",
    "print('initial of cnt:\\t\\t',cnt)\n",
    "word_list = ['red', 'blue', 'red', 'green', 'blue', 'blue']\n",
    "for word in word_list:\n",
    "    cnt[word] += 1\n",
    "print('cnt:\\t\\t\\t',cnt)"
   ]
  },
  {
   "cell_type": "markdown",
   "metadata": {},
   "source": [
    "在这里其统计功能等效于下列代码"
   ]
  },
  {
   "cell_type": "code",
   "execution_count": 2,
   "metadata": {},
   "outputs": [
    {
     "name": "stdout",
     "output_type": "stream",
     "text": [
      "word_dict:\t\t {'red': 2, 'blue': 3, 'green': 1}\n"
     ]
    }
   ],
   "source": [
    "word_list = ['red', 'blue', 'red', 'green', 'blue', 'blue']\n",
    "word_dict = {}\n",
    "for i in word_list:\n",
    "    if word_dict.__contains__(i):\n",
    "        word_dict[i] += 1\n",
    "    else:\n",
    "        word_dict[i] = 1\n",
    "print('word_dict:\\t\\t',word_dict)"
   ]
  },
  {
   "cell_type": "markdown",
   "metadata": {},
   "source": [
    "但cnt该有一些普通dict没有的功能，即可以返回dict中没有该key的数量：0，而普通的dict则会报错"
   ]
  },
  {
   "cell_type": "code",
   "execution_count": 3,
   "metadata": {},
   "outputs": [
    {
     "name": "stdout",
     "output_type": "stream",
     "text": [
      "0\n"
     ]
    }
   ],
   "source": [
    "print(cnt['none'])"
   ]
  },
  {
   "cell_type": "code",
   "execution_count": 4,
   "metadata": {},
   "outputs": [
    {
     "ename": "KeyError",
     "evalue": "'none'",
     "output_type": "error",
     "traceback": [
      "\u001b[1;31m---------------------------------------------------------------------------\u001b[0m",
      "\u001b[1;31mKeyError\u001b[0m                                  Traceback (most recent call last)",
      "\u001b[1;32m<ipython-input-4-d90e58ddbcf5>\u001b[0m in \u001b[0;36m<module>\u001b[1;34m\u001b[0m\n\u001b[1;32m----> 1\u001b[1;33m \u001b[0mprint\u001b[0m\u001b[1;33m(\u001b[0m\u001b[0mword_dict\u001b[0m\u001b[1;33m[\u001b[0m\u001b[1;34m'none'\u001b[0m\u001b[1;33m]\u001b[0m\u001b[1;33m)\u001b[0m\u001b[1;33m\u001b[0m\u001b[1;33m\u001b[0m\u001b[0m\n\u001b[0m",
      "\u001b[1;31mKeyError\u001b[0m: 'none'"
     ]
    }
   ],
   "source": [
    "print(word_dict['none'])"
   ]
  },
  {
   "cell_type": "markdown",
   "metadata": {},
   "source": [
    "## 2.Counter的四种构造方法：空、迭代器、dict、keyword"
   ]
  },
  {
   "cell_type": "code",
   "execution_count": 5,
   "metadata": {},
   "outputs": [
    {
     "name": "stdout",
     "output_type": "stream",
     "text": [
      "c:\t\t Counter()\n",
      "c:\t\t Counter({'a': 3, 'l': 2, 'g': 1, 'h': 1, 'd': 1})\n",
      "c:\t\t Counter({'red': 4, 'blue': 2})\n",
      "c:\t\t Counter({'dogs': 8, 'cats': 4})\n"
     ]
    }
   ],
   "source": [
    "c = Counter()                           # a new, empty counter\n",
    "print('c:\\t\\t',c)\n",
    "c = Counter('gallahad')                 # a new counter from an iterable\n",
    "print('c:\\t\\t',c)\n",
    "c = Counter({'red': 4, 'blue': 2})      # a new counter from a mapping\n",
    "print('c:\\t\\t',c)\n",
    "c = Counter(cats=4, dogs=8)             # a new counter from keyword args\n",
    "print('c:\\t\\t',c)"
   ]
  },
  {
   "cell_type": "markdown",
   "metadata": {},
   "source": [
    "Counter对象有一个字典接口除了它们在缺失的items时候返回0而不是产生一个KeyError。设置计数为0并不会从一个counter中删除该元素，使用del来彻底删除。"
   ]
  },
  {
   "cell_type": "code",
   "execution_count": 6,
   "metadata": {},
   "outputs": [
    {
     "name": "stdout",
     "output_type": "stream",
     "text": [
      "c:\t\t Counter({'eggs': 1, 'ham': 1})\n",
      "num of bacon:\t\t 0\n"
     ]
    }
   ],
   "source": [
    "c = Counter(['eggs', 'ham'])\n",
    "print('c:\\t\\t',c)\n",
    "print('num of bacon:\\t\\t',c['bacon'])                              # count of a missing element is zero\n",
    "\n",
    "c['sausage'] = 0                        # counter entry with a zero count\n",
    "del c['sausage']                        # del actually removes the entry"
   ]
  },
  {
   "cell_type": "markdown",
   "metadata": {},
   "source": [
    "## 3.Counter中支持的dict没有的两个功能：\n",
    "#### elements()： 返回一个迭代器，其中的元素重复次数和它的count一样多，元素返回次序任意，如果count小于1，将会被忽略\n",
    "#### most_common([n])： 从多到少返回一个有前n多的元素的列表，如果n被忽略或者为none，返回所有元素，相同数量的元素次序任意\\n"
   ]
  },
  {
   "cell_type": "code",
   "execution_count": 7,
   "metadata": {},
   "outputs": [
    {
     "name": "stdout",
     "output_type": "stream",
     "text": [
      "list_c:\t\t\t ['a', 'a', 'a', 'a', 'b', 'b']\n",
      "most_common:\t\t [('a', 5), ('b', 2), ('r', 2)]\n"
     ]
    }
   ],
   "source": [
    "# c.elements()\n",
    "c = Counter(a=4, b=2, c=0, d=-2)\n",
    "list_c = list(c.elements())\n",
    "print('list_c:\\t\\t\\t',list_c)\n",
    "# c.most_common(n)\n",
    "most_common = Counter('abracadabra').most_common(3)\n",
    "print('most_common:\\t\\t',most_common)"
   ]
  },
  {
   "cell_type": "markdown",
   "metadata": {},
   "source": [
    "## 4.Counter提供了一些运算符来进行Counter对象的组合\n",
    "## (keeping only positive counts)"
   ]
  },
  {
   "cell_type": "code",
   "execution_count": 8,
   "metadata": {},
   "outputs": [
    {
     "name": "stdout",
     "output_type": "stream",
     "text": [
      "Counter({'a': 4, 'b': 3, 'e': 1})\n",
      "Counter({'a': 2, 'f': 2, 'e': 1})\n",
      "Counter({'a': 1, 'b': 1})\n",
      "Counter({'a': 3, 'b': 2, 'e': 1})\n"
     ]
    }
   ],
   "source": [
    "c = Counter(a=3, b=1, e=1)\n",
    "d = Counter(a=1, b=2, f=-2)\n",
    "print(c + d)                       # add two counters together:  c[x] + d[x],\n",
    "print(c - d)                       # subtract (keeping only positive counts)\n",
    "print(c & d)                       # intersection:  min(c[x], d[x])\n",
    "print(c | d)                       # union:  max(c[x], d[x])"
   ]
  },
  {
   "cell_type": "markdown",
   "metadata": {},
   "source": [
    "## 5.Counter常用的方法"
   ]
  },
  {
   "cell_type": "code",
   "execution_count": 9,
   "metadata": {},
   "outputs": [
    {
     "name": "stdout",
     "output_type": "stream",
     "text": [
      "dict_items([('a', 3), ('b', 1), ('e', 1)])\n",
      "[('e', 1), ('b', 1)]\n"
     ]
    }
   ],
   "source": [
    "sum(c.values())                         # total of all counts\n",
    "list(c)                                 # list unique elements\n",
    "set(c)                                  # convert to a set\n",
    "dict(c)                                 # convert to a regular dictionary\n",
    "print(c.items())                        # convert to a list of (elem, cnt) pairs\n",
    "list_of_pairs = [('a', 3), ('b', 1), ('e', 1)]\n",
    "Counter(dict(list_of_pairs))            # convert from a list of (elem, cnt) pairs\n",
    "n = 2\n",
    "print(c.most_common()[:-n-1:-1])        # n least common elements\n",
    "c += Counter()                          # remove zero and negative counts\n",
    "\n",
    "c.clear()                               # reset all counts"
   ]
  },
  {
   "cell_type": "code",
   "execution_count": null,
   "metadata": {},
   "outputs": [],
   "source": []
  },
  {
   "cell_type": "code",
   "execution_count": null,
   "metadata": {},
   "outputs": [],
   "source": []
  }
 ],
 "metadata": {
  "kernelspec": {
   "display_name": "Python 3",
   "language": "python",
   "name": "python3"
  },
  "language_info": {
   "codemirror_mode": {
    "name": "ipython",
    "version": 3
   },
   "file_extension": ".py",
   "mimetype": "text/x-python",
   "name": "python",
   "nbconvert_exporter": "python",
   "pygments_lexer": "ipython3",
   "version": "3.7.3"
  }
 },
 "nbformat": 4,
 "nbformat_minor": 2
}
