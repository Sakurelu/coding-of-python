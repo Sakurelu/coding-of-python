{
 "cells": [
  {
   "cell_type": "markdown",
   "metadata": {},
   "source": [
    "# python没有队列、栈、优先级队列这些特殊的数据结构，因此需要Queue模块"
   ]
  },
  {
   "cell_type": "markdown",
   "metadata": {},
   "source": [
    "### 功能简介"
   ]
  },
  {
   "cell_type": "markdown",
   "metadata": {},
   "source": [
    "Queue模块定义了三种不同的模式，包括队列、栈、优先级队列"
   ]
  },
  {
   "cell_type": "markdown",
   "metadata": {},
   "source": [
    "队列"
   ]
  },
  {
   "cell_type": "code",
   "execution_count": 1,
   "metadata": {},
   "outputs": [],
   "source": [
    "from queue import Queue\n",
    "maxsize = 10\n",
    "q = Queue(maxsize)# 创建一个FIFO(first-in first-out,先进先出)队列。maxsize是队列中可以放入的项的最大数量。"
   ]
  },
  {
   "cell_type": "markdown",
   "metadata": {},
   "source": [
    "栈"
   ]
  },
  {
   "cell_type": "code",
   "execution_count": 2,
   "metadata": {},
   "outputs": [],
   "source": [
    "from queue import LifoQueue\n",
    "maxsize = 10\n",
    "q = LifoQueue(maxsize)#创建一个LIFO（last-in first-out，后进先出）队列(栈)。"
   ]
  },
  {
   "cell_type": "markdown",
   "metadata": {},
   "source": [
    "优先级队列"
   ]
  },
  {
   "cell_type": "code",
   "execution_count": 3,
   "metadata": {},
   "outputs": [],
   "source": [
    "from queue import PriorityQueue\n",
    "maxsize = 10\n",
    "q=PriorityQueue(maxsize)#创建一个优先级队列，其中项按照优先级从低到高依次排好。\n",
    "# 使用这种队列时，项应该是(priority,data)形式的元组，其中priority时一个标识优先级的数字。"
   ]
  },
  {
   "cell_type": "markdown",
   "metadata": {},
   "source": [
    "### 常用方法"
   ]
  },
  {
   "cell_type": "code",
   "execution_count": 4,
   "metadata": {},
   "outputs": [
    {
     "data": {
      "text/plain": [
       "2"
      ]
     },
     "execution_count": 4,
     "metadata": {},
     "output_type": "execute_result"
    }
   ],
   "source": [
    "q.qsize()# 返回队列的正确大小。优先级队列没有此方法\n",
    "q.empty()# 如果队列为空，返回True，否则返回False。\n",
    "q.full()# 如果队列已满，返回True，否则返回False。\n",
    "item = 2\n",
    "q.put(item)# 将item放入队列。\n",
    "q.get()# 从队列中删除一项，然后返回这个项。"
   ]
  },
  {
   "cell_type": "markdown",
   "metadata": {},
   "source": [
    "### 实例（队列）"
   ]
  },
  {
   "cell_type": "code",
   "execution_count": 11,
   "metadata": {},
   "outputs": [
    {
     "name": "stdout",
     "output_type": "stream",
     "text": [
      "q.size() :  0\n",
      "q.empty() :  True\n",
      "q.full() :  False\n",
      "q.size() :  10\n",
      "q.empty() :  False\n",
      "q.full() :  True\n",
      "top:  1\n",
      "top:  2\n",
      "q.size() :  8\n",
      "top: 3\n",
      "q.size() :  7\n"
     ]
    }
   ],
   "source": [
    "from queue import Queue\n",
    "maxsize = 10\n",
    "q = Queue(maxsize)\n",
    "print('q.size() : ',q.qsize())\n",
    "print('q.empty() : ',q.empty())\n",
    "print('q.full() : ',q.full())\n",
    "for i in range(maxsize):\n",
    "    q.put(i + 1)\n",
    "print('q.size() : ',q.qsize())\n",
    "print('q.empty() : ',q.empty())\n",
    "print('q.full() : ',q.full())\n",
    "top = q.get()\n",
    "print('top: ',top)\n",
    "top = q.get()\n",
    "print('top: ',top)\n",
    "print('q.size() : ',q.qsize())\n",
    "top = q.get()\n",
    "print('top:',top)\n",
    "print('q.size() : ',q.qsize())"
   ]
  },
  {
   "cell_type": "markdown",
   "metadata": {},
   "source": [
    "### 实例（栈）"
   ]
  },
  {
   "cell_type": "code",
   "execution_count": 15,
   "metadata": {},
   "outputs": [
    {
     "name": "stdout",
     "output_type": "stream",
     "text": [
      "q.size() :  0\n",
      "q.empty() :  True\n",
      "q.full() :  False\n",
      "q.size() :  10\n",
      "q.empty() :  False\n",
      "q.full() :  True\n",
      "top:  10\n",
      "top:  9\n",
      "q.size() :  8\n"
     ]
    }
   ],
   "source": [
    "from queue import LifoQueue\n",
    "maxsize = 10\n",
    "q = LifoQueue(maxsize)\n",
    "print('q.size() : ',q.qsize())\n",
    "print('q.empty() : ',q.empty())\n",
    "print('q.full() : ',q.full())\n",
    "for i in range(maxsize):\n",
    "    q.put(i + 1)\n",
    "print('q.size() : ',q.qsize())\n",
    "print('q.empty() : ',q.empty())\n",
    "print('q.full() : ',q.full())\n",
    "top = q.get()\n",
    "print('top: ',top)\n",
    "top = q.get()\n",
    "print('top: ',top)\n",
    "print('q.size() : ',q.qsize())"
   ]
  },
  {
   "cell_type": "code",
   "execution_count": null,
   "metadata": {},
   "outputs": [],
   "source": []
  },
  {
   "cell_type": "code",
   "execution_count": null,
   "metadata": {},
   "outputs": [],
   "source": []
  },
  {
   "cell_type": "code",
   "execution_count": null,
   "metadata": {},
   "outputs": [],
   "source": []
  }
 ],
 "metadata": {
  "kernelspec": {
   "display_name": "Python 3",
   "language": "python",
   "name": "python3"
  },
  "language_info": {
   "codemirror_mode": {
    "name": "ipython",
    "version": 3
   },
   "file_extension": ".py",
   "mimetype": "text/x-python",
   "name": "python",
   "nbconvert_exporter": "python",
   "pygments_lexer": "ipython3",
   "version": "3.7.3"
  }
 },
 "nbformat": 4,
 "nbformat_minor": 2
}
